{
  "nbformat": 4,
  "nbformat_minor": 0,
  "metadata": {
    "colab": {
      "name": "MLipynb",
      "provenance": [],
      "collapsed_sections": []
    },
    "kernelspec": {
      "name": "python3",
      "display_name": "Python 3"
    }
  },
  "cells": [
    {
      "cell_type": "code",
      "metadata": {
        "id": "44nxES6p0-Ql",
        "colab_type": "code",
        "colab": {
          "base_uri": "https://localhost:8080/",
          "height": 70
        },
        "outputId": "acbbafb1-5571-4408-e39e-6f2ec33e3bc6"
      },
      "source": [
        "import numpy as np\n",
        "import pandas as pd\n",
        "import matplotlib.pyplot as plt\n",
        "\n",
        "alpha=[0.01,0.02]\n",
        "print(newbranch\n)"
        "count=0\n",
        "for i in alpha:\n",
        "  count=0\n",
        "  theta=5\n",
        "  prevtheta=10\n",
        "  while(abs(prevtheta-theta)>10e-6 and count<1000):\n",
        "    prevtheta=theta\n",
        "    theta=theta-i*(2*theta)\n",
        "    count=count+1\n",
        "  print(\"alpha=>\",i,end=' ')\n",
        " # print(count)"
      ],
      "execution_count": 1,
      "outputs": [
        {
          "output_type": "stream",
          "text": [
            "theta=> 0.0004889749329460835 alpha=> 0.01 iterations=> 457\n",
            "theta=> 3.653754093327259e-05 alpha=> 0.1 iterations=> 53\n",
            "theta=> 5 alpha=> 1 iterations=> 1000\n"
          ],
          "name": "stdout"
        }
      ]
    }
  ]
}